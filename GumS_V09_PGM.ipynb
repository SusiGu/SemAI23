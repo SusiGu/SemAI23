{
  "nbformat": 4,
  "nbformat_minor": 0,
  "metadata": {
    "colab": {
      "provenance": [],
      "include_colab_link": true
    },
    "kernelspec": {
      "name": "python3",
      "display_name": "Python 3"
    },
    "language_info": {
      "name": "python"
    }
  },
  "cells": [
    {
      "cell_type": "markdown",
      "metadata": {
        "id": "view-in-github",
        "colab_type": "text"
      },
      "source": [
        "<a href=\"https://colab.research.google.com/github/SusiGu/SemAI23/blob/main/GumS_V09_PGM.ipynb\" target=\"_parent\"><img src=\"https://colab.research.google.com/assets/colab-badge.svg\" alt=\"Open In Colab\"/></a>"
      ]
    },
    {
      "cell_type": "markdown",
      "source": [
        "# Bayesian Networks in Python\n",
        "\n",
        "In this tutorial, we will explore how to use Bayesian networks in Python using the `pgmpy` library.\n",
        "\n",
        "See documentation at:\n",
        "- https://pgmpy.org/\n",
        "- https://pgmpy.org/models/bayesiannetwork.html\n",
        "- https://pgmpy.org/factors/discrete.html\n",
        "- https://pgmpy.org/exact_infer/ve.html"
      ],
      "metadata": {
        "id": "2G5_9hI8Oegc"
      }
    },
    {
      "cell_type": "markdown",
      "source": [
        "## Implementation in Python using `pgmpy`.\n",
        "\n",
        "Let's start by installing the `pgmpy` library."
      ],
      "metadata": {
        "id": "1tVLWr-_Tn4I"
      }
    },
    {
      "cell_type": "code",
      "execution_count": 2,
      "metadata": {
        "id": "PJ_P6rynObjV",
        "colab": {
          "base_uri": "https://localhost:8080/"
        },
        "outputId": "d4b484cd-8b50-4f2a-c136-3581d426554d"
      },
      "outputs": [
        {
          "output_type": "stream",
          "name": "stdout",
          "text": [
            "\u001b[?25l     \u001b[90m━━━━━━━━━━━━━━━━━━━━━━━━━━━━━━━━━━━━━━━━\u001b[0m \u001b[32m0.0/1.9 MB\u001b[0m \u001b[31m?\u001b[0m eta \u001b[36m-:--:--\u001b[0m\r\u001b[2K     \u001b[91m━━━━━━━\u001b[0m\u001b[90m╺\u001b[0m\u001b[90m━━━━━━━━━━━━━━━━━━━━━━━━━━━━━━━━\u001b[0m \u001b[32m0.3/1.9 MB\u001b[0m \u001b[31m10.0 MB/s\u001b[0m eta \u001b[36m0:00:01\u001b[0m\r\u001b[2K     \u001b[91m━━━━━━━━━━━━━━━━━━━━━━━━━━━━━━━━━━━━━━━\u001b[0m\u001b[91m╸\u001b[0m \u001b[32m1.9/1.9 MB\u001b[0m \u001b[31m32.8 MB/s\u001b[0m eta \u001b[36m0:00:01\u001b[0m\r\u001b[2K     \u001b[90m━━━━━━━━━━━━━━━━━━━━━━━━━━━━━━━━━━━━━━━━\u001b[0m \u001b[32m1.9/1.9 MB\u001b[0m \u001b[31m25.3 MB/s\u001b[0m eta \u001b[36m0:00:00\u001b[0m\n",
            "\u001b[?25h"
          ]
        }
      ],
      "source": [
        "!pip install -q pgmpy networkx matplotlib plotly daft"
      ]
    },
    {
      "cell_type": "markdown",
      "source": [
        "Import the required libraries."
      ],
      "metadata": {
        "id": "k12GLfW8O1Iz"
      }
    },
    {
      "cell_type": "code",
      "source": [
        "import numpy as np\n",
        "from pgmpy.models import BayesianNetwork\n",
        "from pgmpy.factors.discrete import TabularCPD\n",
        "import networkx as nx\n",
        "import matplotlib.pyplot as plt"
      ],
      "metadata": {
        "id": "BP8gltvIO7mU"
      },
      "execution_count": 3,
      "outputs": []
    },
    {
      "cell_type": "markdown",
      "source": [
        "Create the Bayesian network:"
      ],
      "metadata": {
        "id": "WZ9fWpP8O7OD"
      }
    },
    {
      "cell_type": "code",
      "source": [
        "# Define the network structure\n",
        "model = BayesianNetwork([\n",
        "    ('PetersAlarmFails', 'PeterLate'),\n",
        "    ('TrainStrike', 'PeterLate'),\n",
        "    ('TrainStrike', 'JohannaLate')\n",
        "    ])\n",
        "\n",
        "statenames = {'TrainStrike': ['True', 'False'],\n",
        "              'PeterLate': ['True', 'False'],\n",
        "              'JohannaLate': ['True', 'False'],\n",
        "              'PetersAlarmFails': ['True', 'False']}\n",
        "model.to_daft().render()\n",
        "# Define the probability distribution for 'Alarm'\n",
        "cpd_PetersAlarmFails = TabularCPD(variable='PetersAlarmFails', variable_card=2,\n",
        "                          state_names=statenames,\n",
        "                          values=[[0.1], [0.90]])\n",
        "\n",
        "# Define the probability distribution for 'TrainStrike'\n",
        "cpd_TrainStrike = TabularCPD(variable='TrainStrike', variable_card=2,\n",
        "                          state_names=statenames,\n",
        "                          values=[[0.05], [0.95]])\n",
        "\n",
        "# Define the conditional probability distribution for 'JohannaLate'\n",
        "cpd_JohannaLate = TabularCPD(variable='JohannaLate', variable_card=2,\n",
        "                      state_names=statenames,\n",
        "                      evidence=['TrainStrike'], evidence_card=[2],\n",
        "                      values=[[0.5, 0.02],\n",
        "                              [0.5, 0.98]])\n",
        "\n",
        "# Define the conditional probability distribution for 'PeterLate'\n",
        "cpd_PeterLate = TabularCPD(variable='PeterLate', variable_card=2,\n",
        "                      state_names=statenames,\n",
        "                      evidence=['PetersAlarmFails', 'TrainStrike'],\n",
        "                      evidence_card=[2, 2],\n",
        "                      values=[[0.7, 0.4, 0.3, 0.01],\n",
        "                              [0.3, 0.6, 0.7, 0.99]])\n",
        "\n",
        "\n",
        "\n",
        "# Add the probability distributions to the model\n",
        "model.add_cpds(cpd_PetersAlarmFails, cpd_TrainStrike, cpd_JohannaLate, cpd_PeterLate)\n",
        "\n",
        "# Print\n",
        "for cpd in model.get_cpds():\n",
        "  print(cpd)\n"
      ],
      "metadata": {
        "id": "JhDmRSpMO_-d",
        "colab": {
          "base_uri": "https://localhost:8080/",
          "height": 716
        },
        "outputId": "815a4ca0-98ca-4c8b-b81b-0b85cc6bcf99"
      },
      "execution_count": 11,
      "outputs": [
        {
          "output_type": "stream",
          "name": "stdout",
          "text": [
            "+-------------------------+-----+\n",
            "| PetersAlarmFails(True)  | 0.1 |\n",
            "+-------------------------+-----+\n",
            "| PetersAlarmFails(False) | 0.9 |\n",
            "+-------------------------+-----+\n",
            "+--------------------+------+\n",
            "| TrainStrike(True)  | 0.05 |\n",
            "+--------------------+------+\n",
            "| TrainStrike(False) | 0.95 |\n",
            "+--------------------+------+\n",
            "+--------------------+-------------------+--------------------+\n",
            "| TrainStrike        | TrainStrike(True) | TrainStrike(False) |\n",
            "+--------------------+-------------------+--------------------+\n",
            "| JohannaLate(True)  | 0.5               | 0.02               |\n",
            "+--------------------+-------------------+--------------------+\n",
            "| JohannaLate(False) | 0.5               | 0.98               |\n",
            "+--------------------+-------------------+--------------------+\n",
            "+------------------+-----+-------------------------+\n",
            "| PetersAlarmFails | ... | PetersAlarmFails(False) |\n",
            "+------------------+-----+-------------------------+\n",
            "| TrainStrike      | ... | TrainStrike(False)      |\n",
            "+------------------+-----+-------------------------+\n",
            "| PeterLate(True)  | ... | 0.01                    |\n",
            "+------------------+-----+-------------------------+\n",
            "| PeterLate(False) | ... | 0.99                    |\n",
            "+------------------+-----+-------------------------+\n"
          ]
        },
        {
          "output_type": "display_data",
          "data": {
            "text/plain": [
              "<Figure size 212.598x212.598 with 1 Axes>"
            ],
            "image/png": "[encoded data removed]"
          },
          "metadata": {}
        }
      ]
    },
    {
      "cell_type": "markdown",
      "source": [
        "\n",
        "b) Wie hoch ist die Wahrscheinlichkeit, dass Johanna bzw Peter zu spät in die Arbeit kommen? => Johanna = 4% , Peter = 6%"
      ],
      "metadata": {
        "id": "A2nCYG4L0YXB"
      }
    },
    {
      "cell_type": "code",
      "source": [
        "from pgmpy.inference import VariableElimination\n",
        "inference = VariableElimination(model)\n",
        "\n",
        "print(inference.query(variables=['JohannaLate']))\n",
        "print(inference.query(variables=['PeterLate']))"
      ],
      "metadata": {
        "colab": {
          "base_uri": "https://localhost:8080/"
        },
        "id": "vDeR1FnD0Q_p",
        "outputId": "207ac4f6-d36f-40a1-c268-ac5597965d08"
      },
      "execution_count": 13,
      "outputs": [
        {
          "output_type": "stream",
          "name": "stdout",
          "text": [
            "+--------------------+--------------------+\n",
            "| JohannaLate        |   phi(JohannaLate) |\n",
            "+====================+====================+\n",
            "| JohannaLate(True)  |             0.0440 |\n",
            "+--------------------+--------------------+\n",
            "| JohannaLate(False) |             0.9560 |\n",
            "+--------------------+--------------------+\n",
            "+------------------+------------------+\n",
            "| PeterLate        |   phi(PeterLate) |\n",
            "+==================+==================+\n",
            "| PeterLate(True)  |           0.0636 |\n",
            "+------------------+------------------+\n",
            "| PeterLate(False) |           0.9365 |\n",
            "+------------------+------------------+\n"
          ]
        }
      ]
    },
    {
      "cell_type": "markdown",
      "source": [
        "c) Wie hoch ist die Wahrscheinlichkeit, dass Johanna zu spät in die Arbeit kommt, falls Peters Wecker\n",
        "nicht funktioniert? Johanna => 4%"
      ],
      "metadata": {
        "id": "_F0D2TpmPESr"
      }
    },
    {
      "cell_type": "code",
      "source": [
        "evidence={'PetersAlarmFails':'True'}\n",
        "result = inference.query(variables=['JohannaLate'], evidence=evidence)\n",
        "print(evidence)\n",
        "print(result)"
      ],
      "metadata": {
        "colab": {
          "base_uri": "https://localhost:8080/"
        },
        "id": "YMcRfaGiPGSK",
        "outputId": "4fe13621-68ce-49d6-a171-47fbafcf10ba"
      },
      "execution_count": 15,
      "outputs": [
        {
          "output_type": "stream",
          "name": "stdout",
          "text": [
            "{'PetersAlarmFails': 'True'}\n",
            "+--------------------+--------------------+\n",
            "| JohannaLate        |   phi(JohannaLate) |\n",
            "+====================+====================+\n",
            "| JohannaLate(True)  |             0.0440 |\n",
            "+--------------------+--------------------+\n",
            "| JohannaLate(False) |             0.9560 |\n",
            "+--------------------+--------------------+\n"
          ]
        }
      ]
    },
    {
      "cell_type": "markdown",
      "source": [
        "d) Wie hoch ist die Wahrscheinlichkeit, dass Johanna zu spät in die Arbeit kommt, wenn Peter zu spät\n",
        "in die Arbeit kommt? Johanna => 15%"
      ],
      "metadata": {
        "id": "EfeEx-PqawwQ"
      }
    },
    {
      "cell_type": "code",
      "source": [
        "evidence={'PeterLate':'True'}\n",
        "result = inference.query(variables=['JohannaLate'], evidence=evidence)\n",
        "print(evidence)\n",
        "print(result)"
      ],
      "metadata": {
        "colab": {
          "base_uri": "https://localhost:8080/"
        },
        "id": "4CuuSxsQa0sq",
        "outputId": "32bd0433-7034-4d63-e9ca-519ec24fcdb0"
      },
      "execution_count": 16,
      "outputs": [
        {
          "output_type": "stream",
          "name": "stdout",
          "text": [
            "{'PeterLate': 'True'}\n",
            "+--------------------+--------------------+\n",
            "| JohannaLate        |   phi(JohannaLate) |\n",
            "+====================+====================+\n",
            "| JohannaLate(True)  |             0.1484 |\n",
            "+--------------------+--------------------+\n",
            "| JohannaLate(False) |             0.8516 |\n",
            "+--------------------+--------------------+\n"
          ]
        }
      ]
    },
    {
      "cell_type": "markdown",
      "source": [
        "\n",
        "e) Wie hoch ist die Wahrscheinlichkeit, dass Johanna zu spät in die Arbeit kommt, wenn Peter zu\n",
        "spät in die Arbeit kommt obwohl Peters Wecker funktioniert? Johanna => 31%"
      ],
      "metadata": {
        "id": "u9GvHoqpbKxU"
      }
    },
    {
      "cell_type": "code",
      "source": [
        "evidence={'PeterLate':'True', 'PetersAlarmFails': 'False'}\n",
        "result = inference.query(variables=['JohannaLate'], evidence=evidence)\n",
        "print(evidence)\n",
        "print(result)"
      ],
      "metadata": {
        "colab": {
          "base_uri": "https://localhost:8080/"
        },
        "id": "uIV5DiozbKL4",
        "outputId": "c6a40b6d-5908-47b5-801e-0fd0a3090d43"
      },
      "execution_count": 17,
      "outputs": [
        {
          "output_type": "stream",
          "name": "stdout",
          "text": [
            "{'PeterLate': 'True', 'PetersAlarmFails': 'False'}\n",
            "+--------------------+--------------------+\n",
            "| JohannaLate        |   phi(JohannaLate) |\n",
            "+====================+====================+\n",
            "| JohannaLate(True)  |             0.3139 |\n",
            "+--------------------+--------------------+\n",
            "| JohannaLate(False) |             0.6861 |\n",
            "+--------------------+--------------------+\n"
          ]
        }
      ]
    }
  ]
}