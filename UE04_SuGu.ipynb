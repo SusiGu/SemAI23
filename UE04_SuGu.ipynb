{
  "nbformat": 4,
  "nbformat_minor": 0,
  "metadata": {
    "colab": {
      "provenance": [],
      "include_colab_link": true
    },
    "kernelspec": {
      "name": "python3",
      "display_name": "Python 3"
    },
    "language_info": {
      "name": "python"
    }
  },
  "cells": [
    {
      "cell_type": "markdown",
      "metadata": {
        "id": "view-in-github",
        "colab_type": "text"
      },
      "source": [
        "<a href=\"https://colab.research.google.com/github/SusiGu/SemAI23/blob/main/UE04_SuGu.ipynb\" target=\"_parent\"><img src=\"https://colab.research.google.com/assets/colab-badge.svg\" alt=\"Open In Colab\"/></a>"
      ]
    },
    {
      "cell_type": "markdown",
      "source": [
        "Course Instructor: Bernd Neumayr, JKU\n",
        "\n",
        "# UE04- SPARQL Updata and RDF Datasets\n",
        "\n",
        "Complete the **8 tasks (1 point per task)** in the `3. SPARQL Update` sheet of `SemAI.jar` first and then transfer them to this notebook.\n",
        "\n",
        "For each task include:\n",
        "- A headline including the task number\n",
        "- The task description \n",
        "- Your solution in executable form: your solutions for SemAI.jar will make use of the default grap. In this notebook you have to transform your solutions according to the workaround exemplified in V04_SPARQL_Update.ipynb\n",
        "- After executing the update request, print a serizalization of the dataset in TriG format.  \n",
        "\n",
        "**Task 9 (2 points)**  is to develop a nice visualization of RDF datasets using `visualize_graph_pyvis` from UE02 as a starting point. The requirements are as follows:\n",
        "- Each named graph must be represented as an independent graph. This means, for example, that :Jane in :JanesGraph is a different node than :Jane in :BillsGraph. There are no edges between nodes in different graphs.\n",
        "- It is not strictly necessary to draw a box around each named graph, as seen in the slides. The different named graphs should simply be visually distinguishable and not overlap.\n",
        "- If not all nodes within a named graph are connected, make sure in the visualization that the named graph still forms a coherent visual unit in some way."
      ],
      "metadata": {
        "id": "HnpijZy2D1Hd"
      }
    },
    {
      "cell_type": "markdown",
      "source": [
        "## Preparation"
      ],
      "metadata": {
        "id": "PIlFUlNYuOzj"
      }
    },
    {
      "cell_type": "code",
      "source": [
        "# Install required packages\n",
        "!pip install -q rdflib     # comment to avoid re-install with every re-run"
      ],
      "metadata": {
        "id": "iXoR2zBhuODR"
      },
      "execution_count": 114,
      "outputs": []
    },
    {
      "cell_type": "code",
      "source": [
        "# Imports\n",
        "import pandas as pd\n",
        "import rdflib\n",
        "from rdflib import Graph, Literal, RDF, URIRef, BNode, Namespace\n",
        "\n",
        "\n",
        "# Convenient Functions\n",
        "def sparql_select(graph,query,use_prefixes=True):\n",
        "  results = graph.query(query)          # execute the query against the graph, resulting in a rdflib.plugins.sparql.processor.SPARQLResult\n",
        "  rows = []                             # a list of dictionaries, as intermediate format to construct the pandas DataFrame\n",
        "  for result in results:                # iterate over the result set of the query, a result is an instance of rdflib.query.ResultRow\n",
        "    row = {}                            #     create a dictionary to hold a single row of the result\n",
        "    for var in results.vars:            #     iterate over the variables of the SPARQLResult to add a dictionary entry for each variable\n",
        "      if (isinstance(result[var],URIRef) and use_prefixes):\n",
        "        row[var] = result[var].n3(graph.namespace_manager)   # use namespace prefixes to shorten URIs\n",
        "      else:\n",
        "        row[var] = result[var]                  \n",
        "    rows.append(row)                    #     add the dictionary (row) to the list \n",
        "  return pd.DataFrame(rows,columns=results.vars)        \n",
        "                                        # return a pandas DataFrame constructed from the list of dictionaries, with the variables from the result set as columns      \n"
      ],
      "metadata": {
        "id": "jl_qOU8tuWi8"
      },
      "execution_count": 105,
      "outputs": []
    },
    {
      "cell_type": "markdown",
      "source": [
        "## Task 1\n",
        "\n",
        "Sie beginnen mit einem leeren Dataset. Fügen Sie in den Default Graph Statements ein, die sagen, dass :Peter der Autor von :G1 ist, und :Mary Autor von :G2.\n",
        "\n",
        "### Solution\n",
        "prefix rdf: <http://www.w3.org/1999/02/22-rdf-syntax-ns#>\n",
        "prefix :    <http://example.org/>\n",
        "\n",
        "\n",
        "INSERT DATA {\n",
        "     :G1 :author  :Mary.\n",
        "     :G2 :author :Peter.\n",
        "};"
      ],
      "metadata": {
        "id": "8ubVNidWjaOK"
      }
    },
    {
      "cell_type": "code",
      "source": [
        "ds = rdflib.Dataset()\n",
        "\n",
        "ds.parse(format=\"trig\", data=\"\"\"\n",
        "prefix :     <http://example.org/>\n",
        "prefix rdf: <http://www.w3.org/1999/02/22-rdf-syntax-ns#>\n",
        "prefix xrdf: <urn:x-rdflib:default> \n",
        "GRAPH xrdf:  {\n",
        "     :G1 :author  :Mary.\n",
        "     :G2 :author :Peter.\n",
        "}\n",
        "\"\"\")\n",
        "print(ds.serialize(format=\"trig\"))\n"
      ],
      "metadata": {
        "id": "TgJL6iIwjZv5",
        "colab": {
          "base_uri": "https://localhost:8080/"
        },
        "outputId": "291732be-f11d-48a1-ba21-e555074b79c3"
      },
      "execution_count": 115,
      "outputs": [
        {
          "output_type": "stream",
          "name": "stdout",
          "text": [
            "@prefix : <http://example.org/> .\n",
            "@prefix ns1: <urn:x-rdflib:> .\n",
            "\n",
            "{\n",
            "    :G1 :author :Mary .\n",
            "\n",
            "    :G2 :author :Peter .\n",
            "}\n",
            "\n",
            "\n"
          ]
        }
      ]
    },
    {
      "cell_type": "markdown",
      "source": [
        "## Task 2\n",
        "\n",
        "Schreiben Sie { :Mary :knows :Peter, :John, :Mary. } in den Named Graph :G1 und { :Peter :knows :Mary. :John :knows :Mary. } in den Named Graph :G2.\n",
        "\n",
        "\n",
        "### Solution\n",
        "prefix rdf: <http://www.w3.org/1999/02/22-rdf-syntax-ns#>\n",
        "prefix :    <http://example.org/>\n",
        "\n",
        "\n",
        "\n",
        "INSERT DATA { \n",
        " GRAPH :G1 {\n",
        "   :Mary :knows :Peter, :John, :Mary . \n",
        " }\n",
        " GRAPH :G2 {\n",
        "    :Peter :knows :Mary. :John :knows :Mary.\n",
        " } \n",
        "} "
      ],
      "metadata": {
        "id": "Im4SpmvzpjZb"
      }
    },
    {
      "cell_type": "code",
      "source": [
        "\n",
        "ds.update(\"\"\"\n",
        "INSERT DATA { \n",
        " GRAPH :G1 {\n",
        "   :Mary :knows :Peter, :John, :Mary . \n",
        " }\n",
        " GRAPH :G2 {\n",
        "    :Peter :knows :Mary. :John :knows :Mary.\n",
        " } \n",
        "}; \"\"\") \n",
        "\n",
        "print(ds.serialize(format=\"trig\"))\n"
      ],
      "metadata": {
        "id": "tDlth4zGuiE-",
        "colab": {
          "base_uri": "https://localhost:8080/"
        },
        "outputId": "24df1022-ab11-4872-fd81-a8588bd5204b"
      },
      "execution_count": 116,
      "outputs": [
        {
          "output_type": "stream",
          "name": "stdout",
          "text": [
            "@prefix : <http://example.org/> .\n",
            "@prefix ns1: <urn:x-rdflib:> .\n",
            "\n",
            ":G1 {\n",
            "    :Mary :knows :John,\n",
            "            :Mary,\n",
            "            :Peter .\n",
            "}\n",
            "\n",
            "{\n",
            "    :G1 :author :Mary .\n",
            "\n",
            "    :G2 :author :Peter .\n",
            "}\n",
            "\n",
            ":G2 {\n",
            "    :John :knows :Mary .\n",
            "\n",
            "    :Peter :knows :Mary .\n",
            "}\n",
            "\n",
            "\n"
          ]
        }
      ]
    },
    {
      "cell_type": "markdown",
      "source": [
        "## TASK 3\n",
        "\n",
        "Fragen Sie mittels INSERT-WHERE die :knows-Beziehungen aus :G2 ab und fügen deren inverse :knownBy-Beziehungen in den Default-Graph ein.\n",
        "Ihr Update Request darf nicht enthalten: [Mary, Peter, John]\n",
        "\n",
        "### Solution\n",
        "\n",
        "prefix rdf: <http://www.w3.org/1999/02/22-rdf-syntax-ns#>\n",
        "prefix :    <http://example.org/>\n",
        "\n",
        "INSERT { \n",
        "  ?o :knownBy ?m . \n",
        " }\n",
        " WHERE {\n",
        "    GRAPH :G2 {\n",
        "      ?m :knows ?o .\n",
        "    }\n",
        " }; "
      ],
      "metadata": {
        "id": "vKQvM3J0uilJ"
      }
    },
    {
      "cell_type": "code",
      "source": [
        "\n",
        "ds.update(\"\"\"\n",
        "INSERT { \n",
        "   GRAPH xrdf:  {?o :knownBy ?m . }\n",
        " }\n",
        " WHERE {\n",
        "    GRAPH :G2 {\n",
        "      ?m :knows ?o .\n",
        "    }\n",
        " }; \"\"\") \n",
        "print(ds.serialize(format=\"trig\"))\n"
      ],
      "metadata": {
        "id": "0GVaM83Jui8Y",
        "colab": {
          "base_uri": "https://localhost:8080/"
        },
        "outputId": "45d4ac11-1d96-487e-9e74-898fb97c7a19"
      },
      "execution_count": 117,
      "outputs": [
        {
          "output_type": "stream",
          "name": "stdout",
          "text": [
            "@prefix : <http://example.org/> .\n",
            "@prefix ns1: <urn:x-rdflib:> .\n",
            "\n",
            ":G1 {\n",
            "    :Mary :knows :John,\n",
            "            :Mary,\n",
            "            :Peter .\n",
            "}\n",
            "\n",
            "{\n",
            "    :G1 :author :Mary .\n",
            "\n",
            "    :G2 :author :Peter .\n",
            "\n",
            "    :Mary :knownBy :John,\n",
            "            :Peter .\n",
            "}\n",
            "\n",
            ":G2 {\n",
            "    :John :knows :Mary .\n",
            "\n",
            "    :Peter :knows :Mary .\n",
            "}\n",
            "\n",
            "\n"
          ]
        }
      ]
    },
    {
      "cell_type": "markdown",
      "source": [
        "## TASK 4\n",
        "\n",
        "Löschen Sie mittels DELETE-WHERE alle :knownBy-Beziehungen aus dem Default-Graph.\n",
        "Ihr Update Request darf nicht enthalten: [Mary, Peter, John]\n",
        "\n",
        "### Solution\n",
        "\n",
        "prefix rdf: <http://www.w3.org/1999/02/22-rdf-syntax-ns#>\n",
        "prefix :    <http://example.org/>\n",
        "\n",
        "DELETE WHERE {?m :knownBy ?p};"
      ],
      "metadata": {
        "id": "mE7_Waxrxu58"
      }
    },
    {
      "cell_type": "code",
      "source": [
        "ds.update(\"\"\"\n",
        "DELETE WHERE {?m :knownBy ?p};\"\"\") \n",
        "\n",
        "print(ds.serialize(format=\"trig\"))"
      ],
      "metadata": {
        "id": "eLSTVTY9xvPk",
        "colab": {
          "base_uri": "https://localhost:8080/"
        },
        "outputId": "1632a044-d9fa-44c7-984f-8baebcc3b993"
      },
      "execution_count": 118,
      "outputs": [
        {
          "output_type": "stream",
          "name": "stdout",
          "text": [
            "@prefix : <http://example.org/> .\n",
            "@prefix ns1: <urn:x-rdflib:> .\n",
            "\n",
            ":G1 {\n",
            "    :Mary :knows :John,\n",
            "            :Mary,\n",
            "            :Peter .\n",
            "}\n",
            "\n",
            "{\n",
            "    :G1 :author :Mary .\n",
            "\n",
            "    :G2 :author :Peter .\n",
            "}\n",
            "\n",
            ":G2 {\n",
            "    :John :knows :Mary .\n",
            "\n",
            "    :Peter :knows :Mary .\n",
            "}\n",
            "\n",
            "\n"
          ]
        }
      ]
    },
    {
      "cell_type": "markdown",
      "source": [
        "## TASK 5\n",
        "Ermitteln Sie mittels INSERT-WHERE zu jedem Named-Graph dessen Anzahl an Statements mit der Property :knows und schreiben Sie diese in den Default Graph.\n",
        "Ihr Update Request darf nicht enthalten: [G1, G2]\n",
        "\n",
        "\n",
        "### Solution \n",
        "\n",
        "prefix rdf: <http://www.w3.org/1999/02/22-rdf-syntax-ns#>\n",
        "prefix :    <http://example.org/>\n",
        "\n",
        "INSERT \n",
        "  {?g :knowsCount ?c}\n",
        "WHERE {\n",
        "  GRAPH ?g {\n",
        "    SELECT (COUNT(?f) AS ?c)\n",
        "    WHERE \n",
        "    {\n",
        "      ?p :knows ?f\n",
        "     }\n",
        "   GROUP BY ?g\n",
        "  }\n",
        "}\n"
      ],
      "metadata": {
        "id": "jVfYOS-MyNXI"
      }
    },
    {
      "cell_type": "code",
      "source": [
        "ds.update(\"\"\"\n",
        "INSERT {\n",
        "  GRAPH xrdf:  {?g :knowsCount ?c}}\n",
        "WHERE {\n",
        "  GRAPH xrdf: { GRAPH ?g {\n",
        "    SELECT (COUNT(?f) AS ?c)\n",
        "    WHERE \n",
        "    {\n",
        "      ?p :knows ?f\n",
        "     }\n",
        "   GROUP BY ?g\n",
        "  }}\n",
        "};\"\"\") \n",
        "\n",
        "print(ds.serialize(format=\"trig\"))"
      ],
      "metadata": {
        "id": "X0GU-KjuyNzB",
        "colab": {
          "base_uri": "https://localhost:8080/"
        },
        "outputId": "006ad66d-72a5-4ef9-b518-b2e45f665adb"
      },
      "execution_count": 119,
      "outputs": [
        {
          "output_type": "stream",
          "name": "stdout",
          "text": [
            "@prefix : <http://example.org/> .\n",
            "@prefix ns1: <urn:x-rdflib:> .\n",
            "@prefix xsd: <http://www.w3.org/2001/XMLSchema#> .\n",
            "\n",
            ":G1 {\n",
            "    :Mary :knows :John,\n",
            "            :Mary,\n",
            "            :Peter .\n",
            "}\n",
            "\n",
            "{\n",
            "    :G1 :author :Mary ;\n",
            "        :knowsCount 3 .\n",
            "\n",
            "    :G2 :author :Peter ;\n",
            "        :knowsCount 2 .\n",
            "}\n",
            "\n",
            ":G2 {\n",
            "    :John :knows :Mary .\n",
            "\n",
            "    :Peter :knows :Mary .\n",
            "}\n",
            "\n",
            "\n"
          ]
        }
      ]
    },
    {
      "cell_type": "markdown",
      "source": [
        "## TASK 6\n",
        "\n",
        "Ermitteln Sie mittels INSERT-WHERE die Anzahl an Named Graphs und schreiben Sie sie in den Default Graph.\n",
        "Ihr Update Request darf nicht enthalten: [2].\n",
        "\n",
        "### Solution\n",
        "\n",
        "prefix rdf: <http://www.w3.org/1999/02/22-rdf-syntax-ns#>\n",
        "prefix :    <http://example.org/>\n",
        "\n",
        "INSERT {\n",
        "  :ds :graphCount ?c}\n",
        "WHERE {\n",
        "  SELECT (COUNT(DISTINCT ?g) AS ?c) WHERE {\n",
        "    GRAPH ?g { ?s ?p ?o }\n",
        "  }\n",
        "}"
      ],
      "metadata": {
        "id": "tiORdgfS4145"
      }
    },
    {
      "cell_type": "code",
      "source": [
        "ds.update(\"\"\"\n",
        "INSERT {\n",
        "  GRAPH xrdf:  {:ds :graphCount ?c}}\n",
        "WHERE {\n",
        "  GRAPH xrdf: { SELECT (COUNT(DISTINCT ?g) AS ?c) WHERE {\n",
        "    GRAPH ?g { ?s ?p ?o }\n",
        "  }}\n",
        "};\"\"\") \n",
        "\n",
        "print(ds.serialize(format=\"trig\"))"
      ],
      "metadata": {
        "id": "IOtHTjcZ47Hr",
        "colab": {
          "base_uri": "https://localhost:8080/"
        },
        "outputId": "8b2989f3-dbd1-4090-bfb8-8dbb9133dc5d"
      },
      "execution_count": 120,
      "outputs": [
        {
          "output_type": "stream",
          "name": "stdout",
          "text": [
            "@prefix : <http://example.org/> .\n",
            "@prefix ns1: <urn:x-rdflib:> .\n",
            "@prefix xsd: <http://www.w3.org/2001/XMLSchema#> .\n",
            "\n",
            ":G1 {\n",
            "    :Mary :knows :John,\n",
            "            :Mary,\n",
            "            :Peter .\n",
            "}\n",
            "\n",
            "{\n",
            "    :G1 :author :Mary ;\n",
            "        :knowsCount 3 .\n",
            "\n",
            "    :G2 :author :Peter ;\n",
            "        :knowsCount 2 .\n",
            "\n",
            "    :ds :graphCount 2 .\n",
            "}\n",
            "\n",
            ":G2 {\n",
            "    :John :knows :Mary .\n",
            "\n",
            "    :Peter :knows :Mary .\n",
            "}\n",
            "\n",
            "\n"
          ]
        }
      ]
    },
    {
      "cell_type": "markdown",
      "source": [
        "## TASK 7\n",
        "Verschieben Sie mittels DELETE-INSERT-WHERE alle Metadaten zu Named Graphs (also Statements die einen Named Graph als Subjekt haben) in den entsprechenden Named Graph.\n",
        "Ihr Update Request darf nicht enthalten: [G1, G2]\n",
        "\n",
        "### Solution\n",
        "prefix rdf: <http://www.w3.org/1999/02/22-rdf-syntax-ns#>\n",
        "prefix :    <http://example.org/>\n",
        "\n",
        "DELETE {\n",
        "    ?g ?p ?o . \n",
        "}\n",
        "INSERT {\n",
        " GRAPH ?g {\n",
        "    ?g ?p ?o . \n",
        "  }\n",
        "}\n",
        "WHERE {\n",
        "   ?g ?p ?o . \n",
        "   GRAPH ?g {}.\n",
        "  \n",
        "}\n"
      ],
      "metadata": {
        "id": "UjXFKq6N7IhI"
      }
    },
    {
      "cell_type": "code",
      "source": [
        "ds.update(\"\"\"\n",
        "DELETE {\n",
        "    ?g ?p ?o . \n",
        "}\n",
        "INSERT {\n",
        " GRAPH ?g {\n",
        "    ?g ?p ?o . \n",
        "  }\n",
        "}\n",
        "WHERE {\n",
        "   ?g ?p ?o . \n",
        "   GRAPH ?g {}.\n",
        "  \n",
        "}\n",
        ";\"\"\") \n",
        "print(ds.serialize(format=\"trig\"))"
      ],
      "metadata": {
        "id": "ePbSPYkw7I2q",
        "colab": {
          "base_uri": "https://localhost:8080/"
        },
        "outputId": "39c242d5-0f6a-4588-ffeb-a9ae6a1d37dc"
      },
      "execution_count": 121,
      "outputs": [
        {
          "output_type": "stream",
          "name": "stdout",
          "text": [
            "@prefix : <http://example.org/> .\n",
            "@prefix ns1: <urn:x-rdflib:> .\n",
            "@prefix xsd: <http://www.w3.org/2001/XMLSchema#> .\n",
            "\n",
            ":G1 {\n",
            "    :G1 :author :Mary ;\n",
            "        :knowsCount 3 .\n",
            "\n",
            "    :Mary :knows :John,\n",
            "            :Mary,\n",
            "            :Peter .\n",
            "}\n",
            "\n",
            "{\n",
            "    :ds :graphCount 2 .\n",
            "}\n",
            "\n",
            ":G2 {\n",
            "    :G2 :author :Peter ;\n",
            "        :knowsCount 2 .\n",
            "\n",
            "    :John :knows :Mary .\n",
            "\n",
            "    :Peter :knows :Mary .\n",
            "}\n",
            "\n",
            "\n"
          ]
        }
      ]
    },
    {
      "cell_type": "markdown",
      "source": [
        "## TASK 8 \n",
        "Schreiben Sie in jeden Named Graph ein Statement, dass der Autor des jeweiligen Named Graphs die :Susi kennt und aktualisieren Sie mit dem selben UpdateRequest den knowsCount.\n",
        "Ihr Update Request darf nicht enthalten: [Peter, Mary]\n",
        "\n",
        "### Solution\n",
        "DELETE { \n",
        "   GRAPH ?g \n",
        "      { ?p :knows  ?o. \n",
        "      ?g :knowsCount ?c_old. } } \n",
        "   INSERT { \n",
        "   GRAPH ?g\n",
        "    { ?p :knows  ?o, :Susi.\n",
        "      ?g :knowsCount ?c_new.  \n",
        "     } }\n",
        "  WHERE {\n",
        "   GRAPH ?g \n",
        "      { ?p :knows  ?o. \n",
        "        ?g :author ?p .\n",
        "        ?g :knowsCount ?c_old.\n",
        "        BIND(?c_old + 1 AS ?c_new)\n",
        "      }\n",
        " \n",
        "    \n",
        "  }"
      ],
      "metadata": {
        "id": "p94RWIwO70dv"
      }
    },
    {
      "cell_type": "code",
      "source": [
        "ds.update(\"\"\"\n",
        "DELETE { \n",
        "   GRAPH ?g \n",
        "      { ?p :knows  ?o. \n",
        "      ?g :knowsCount ?c_old. } } \n",
        "   INSERT { \n",
        "   GRAPH ?g\n",
        "    { ?p :knows  ?o, :Susi.\n",
        "      ?g :knowsCount ?c_new.  \n",
        "     } }\n",
        "  WHERE {\n",
        "   GRAPH ?g \n",
        "      { ?p :knows  ?o. \n",
        "        ?g :author ?p .\n",
        "        ?g :knowsCount ?c_old.\n",
        "        BIND(?c_old + 1 AS ?c_new)\n",
        "      }\n",
        " \n",
        "    \n",
        "  };\"\"\") \n",
        "\n",
        "print(ds.serialize(format=\"trig\"))"
      ],
      "metadata": {
        "id": "EK09aDqX71Lj",
        "colab": {
          "base_uri": "https://localhost:8080/"
        },
        "outputId": "a6876c24-bf25-4f4d-f422-4199018c1782"
      },
      "execution_count": 122,
      "outputs": [
        {
          "output_type": "stream",
          "name": "stdout",
          "text": [
            "@prefix : <http://example.org/> .\n",
            "@prefix ns1: <urn:x-rdflib:> .\n",
            "@prefix xsd: <http://www.w3.org/2001/XMLSchema#> .\n",
            "\n",
            ":G1 {\n",
            "    :G1 :author :Mary ;\n",
            "        :knowsCount 4 .\n",
            "\n",
            "    :Mary :knows :John,\n",
            "            :Mary,\n",
            "            :Peter,\n",
            "            :Susi .\n",
            "}\n",
            "\n",
            "{\n",
            "    :ds :graphCount 2 .\n",
            "}\n",
            "\n",
            ":G2 {\n",
            "    :G2 :author :Peter ;\n",
            "        :knowsCount 3 .\n",
            "\n",
            "    :John :knows :Mary .\n",
            "\n",
            "    :Peter :knows :Mary,\n",
            "            :Susi .\n",
            "}\n",
            "\n",
            "\n"
          ]
        }
      ]
    }
  ]
}